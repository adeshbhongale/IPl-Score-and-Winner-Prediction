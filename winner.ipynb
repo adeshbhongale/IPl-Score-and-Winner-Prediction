{
 "cells": [
  {
   "cell_type": "code",
   "execution_count": 1,
   "metadata": {},
   "outputs": [],
   "source": [
    "import time\n",
    "import numpy as np\n",
    "import pandas as pd\n",
    "import matplotlib.pyplot as plt\n",
    "from sklearn.linear_model import LogisticRegression\n",
    "from sklearn.ensemble import RandomForestClassifier\n",
    "from sklearn.tree import DecisionTreeClassifier\n",
    "import pydotplus\n",
    "from six import StringIO\n",
    "from IPython.display import Image  \n",
    "from sklearn.tree import export_graphviz\n",
    "from sklearn.naive_bayes import BernoulliNB , GaussianNB ,MultinomialNB\n",
    "from sklearn.neighbors import KNeighborsClassifier\n",
    "from sklearn.model_selection import cross_val_score\n",
    "from sklearn.model_selection import KFold\n",
    "from sklearn.svm import SVC\n",
    "from sklearn.svm import LinearSVC\n",
    "from sklearn.model_selection import GridSearchCV\n",
    "from sklearn.linear_model import RidgeClassifier\n",
    "from sklearn.linear_model import LassoCV\n",
    "from sklearn.metrics import classification_report, confusion_matrix\n",
    "\n",
    "import warnings\n",
    "warnings.filterwarnings('ignore')"
   ]
  },
  {
   "cell_type": "code",
   "execution_count": 2,
   "metadata": {},
   "outputs": [],
   "source": [
    "df = pd.read_csv(r'C:\\Users\\91820\\Desktop\\Main-IPL\\IPL Matches 2008-2020.csv')\n",
    "\n",
    "df = df[['team1' , 'team2' , 'venue' , 'toss_winner' ,'toss_decision' , 'winner' , 'neutral_venue']]"
   ]
  },
  {
   "cell_type": "code",
   "execution_count": 3,
   "metadata": {},
   "outputs": [
    {
     "data": {
      "text/html": [
       "<div>\n",
       "<style scoped>\n",
       "    .dataframe tbody tr th:only-of-type {\n",
       "        vertical-align: middle;\n",
       "    }\n",
       "\n",
       "    .dataframe tbody tr th {\n",
       "        vertical-align: top;\n",
       "    }\n",
       "\n",
       "    .dataframe thead th {\n",
       "        text-align: right;\n",
       "    }\n",
       "</style>\n",
       "<table border=\"1\" class=\"dataframe\">\n",
       "  <thead>\n",
       "    <tr style=\"text-align: right;\">\n",
       "      <th></th>\n",
       "      <th>team1</th>\n",
       "      <th>team2</th>\n",
       "      <th>venue</th>\n",
       "      <th>toss_winner</th>\n",
       "      <th>toss_decision</th>\n",
       "      <th>winner</th>\n",
       "      <th>neutral_venue</th>\n",
       "    </tr>\n",
       "  </thead>\n",
       "  <tbody>\n",
       "    <tr>\n",
       "      <th>0</th>\n",
       "      <td>Royal Challengers Bangalore</td>\n",
       "      <td>Kolkata Knight Riders</td>\n",
       "      <td>M Chinnaswamy Stadium</td>\n",
       "      <td>Royal Challengers Bangalore</td>\n",
       "      <td>field</td>\n",
       "      <td>Kolkata Knight Riders</td>\n",
       "      <td>0</td>\n",
       "    </tr>\n",
       "    <tr>\n",
       "      <th>1</th>\n",
       "      <td>Kings XI Punjab</td>\n",
       "      <td>Chennai Super Kings</td>\n",
       "      <td>Punjab Cricket Association Stadium, Mohali</td>\n",
       "      <td>Chennai Super Kings</td>\n",
       "      <td>bat</td>\n",
       "      <td>Chennai Super Kings</td>\n",
       "      <td>0</td>\n",
       "    </tr>\n",
       "    <tr>\n",
       "      <th>2</th>\n",
       "      <td>Delhi Daredevils</td>\n",
       "      <td>Rajasthan Royals</td>\n",
       "      <td>Feroz Shah Kotla</td>\n",
       "      <td>Rajasthan Royals</td>\n",
       "      <td>bat</td>\n",
       "      <td>Delhi Daredevils</td>\n",
       "      <td>0</td>\n",
       "    </tr>\n",
       "    <tr>\n",
       "      <th>3</th>\n",
       "      <td>Mumbai Indians</td>\n",
       "      <td>Royal Challengers Bangalore</td>\n",
       "      <td>Wankhede Stadium</td>\n",
       "      <td>Mumbai Indians</td>\n",
       "      <td>bat</td>\n",
       "      <td>Royal Challengers Bangalore</td>\n",
       "      <td>0</td>\n",
       "    </tr>\n",
       "    <tr>\n",
       "      <th>4</th>\n",
       "      <td>Kolkata Knight Riders</td>\n",
       "      <td>Deccan Chargers</td>\n",
       "      <td>Eden Gardens</td>\n",
       "      <td>Deccan Chargers</td>\n",
       "      <td>bat</td>\n",
       "      <td>Kolkata Knight Riders</td>\n",
       "      <td>0</td>\n",
       "    </tr>\n",
       "  </tbody>\n",
       "</table>\n",
       "</div>"
      ],
      "text/plain": [
       "                         team1                        team2  \\\n",
       "0  Royal Challengers Bangalore        Kolkata Knight Riders   \n",
       "1              Kings XI Punjab          Chennai Super Kings   \n",
       "2             Delhi Daredevils             Rajasthan Royals   \n",
       "3               Mumbai Indians  Royal Challengers Bangalore   \n",
       "4        Kolkata Knight Riders              Deccan Chargers   \n",
       "\n",
       "                                        venue                  toss_winner  \\\n",
       "0                       M Chinnaswamy Stadium  Royal Challengers Bangalore   \n",
       "1  Punjab Cricket Association Stadium, Mohali          Chennai Super Kings   \n",
       "2                            Feroz Shah Kotla             Rajasthan Royals   \n",
       "3                            Wankhede Stadium               Mumbai Indians   \n",
       "4                                Eden Gardens              Deccan Chargers   \n",
       "\n",
       "  toss_decision                       winner  neutral_venue  \n",
       "0         field        Kolkata Knight Riders              0  \n",
       "1           bat          Chennai Super Kings              0  \n",
       "2           bat             Delhi Daredevils              0  \n",
       "3           bat  Royal Challengers Bangalore              0  \n",
       "4           bat        Kolkata Knight Riders              0  "
      ]
     },
     "execution_count": 3,
     "metadata": {},
     "output_type": "execute_result"
    }
   ],
   "source": [
    "df.head()"
   ]
  },
  {
   "cell_type": "code",
   "execution_count": 4,
   "metadata": {},
   "outputs": [
    {
     "data": {
      "text/plain": [
       "array(['Royal Challengers Bangalore', 'Kings XI Punjab',\n",
       "       'Delhi Daredevils', 'Mumbai Indians', 'Kolkata Knight Riders',\n",
       "       'Rajasthan Royals', 'Deccan Chargers', 'Chennai Super Kings',\n",
       "       'Kochi Tuskers Kerala', 'Pune Warriors', 'Sunrisers Hyderabad',\n",
       "       'Gujarat Lions', 'Rising Pune Supergiants',\n",
       "       'Rising Pune Supergiant', 'Delhi Capitals'], dtype=object)"
      ]
     },
     "execution_count": 4,
     "metadata": {},
     "output_type": "execute_result"
    }
   ],
   "source": [
    "df.team1.unique()"
   ]
  },
  {
   "cell_type": "code",
   "execution_count": 5,
   "metadata": {},
   "outputs": [
    {
     "data": {
      "text/plain": [
       "array(['M Chinnaswamy Stadium',\n",
       "       'Punjab Cricket Association Stadium, Mohali', 'Feroz Shah Kotla',\n",
       "       'Wankhede Stadium', 'Eden Gardens', 'Sawai Mansingh Stadium',\n",
       "       'Rajiv Gandhi International Stadium, Uppal',\n",
       "       'MA Chidambaram Stadium, Chepauk', 'Dr DY Patil Sports Academy',\n",
       "       'Newlands', \"St George's Park\", 'Kingsmead', 'SuperSport Park',\n",
       "       'Buffalo Park', 'New Wanderers Stadium', 'De Beers Diamond Oval',\n",
       "       'OUTsurance Oval', 'Brabourne Stadium',\n",
       "       'Sardar Patel Stadium, Motera', 'Barabati Stadium',\n",
       "       'Vidarbha Cricket Association Stadium, Jamtha',\n",
       "       'Himachal Pradesh Cricket Association Stadium', 'Nehru Stadium',\n",
       "       'Holkar Cricket Stadium',\n",
       "       'Dr. Y.S. Rajasekhara Reddy ACA-VDCA Cricket Stadium',\n",
       "       'Subrata Roy Sahara Stadium',\n",
       "       'Shaheed Veer Narayan Singh International Stadium',\n",
       "       'JSCA International Stadium Complex', 'Sheikh Zayed Stadium',\n",
       "       'Sharjah Cricket Stadium', 'Dubai International Cricket Stadium',\n",
       "       'Maharashtra Cricket Association Stadium',\n",
       "       'Punjab Cricket Association IS Bindra Stadium, Mohali',\n",
       "       'Saurashtra Cricket Association Stadium', 'Green Park',\n",
       "       'M.Chinnaswamy Stadium'], dtype=object)"
      ]
     },
     "execution_count": 5,
     "metadata": {},
     "output_type": "execute_result"
    }
   ],
   "source": [
    "df.venue.unique()"
   ]
  },
  {
   "cell_type": "code",
   "execution_count": 6,
   "metadata": {},
   "outputs": [],
   "source": [
    "# Keeping only consistent teams\n",
    "consistent_teams = ['Kolkata Knight Riders', 'Chennai Super Kings', 'Rajasthan Royals',\n",
    "                    'Mumbai Indians', 'Kings XI Punjab', 'Royal Challengers Bangalore',\n",
    "                    'Delhi Daredevils', 'Sunrisers Hyderabad' , 'Delhi Capitals']\n",
    "\n",
    "consistent_venues = ['M Chinnaswamy Stadium',\n",
    "       'Punjab Cricket Association Stadium, Mohali', 'Feroz Shah Kotla', 'Wankhede Stadium', 'Sawai Mansingh Stadium',\n",
    "       'MA Chidambaram Stadium, Chepauk', 'Eden Gardens', 'Dr DY Patil Sports Academy', 'Brabourne Stadium',\n",
    "       'Sardar Patel Stadium, Motera', 'Himachal Pradesh Cricket Association Stadium', 'Subrata Roy Sahara Stadium',\n",
    "       'Rajiv Gandhi International Stadium, Uppal', 'Shaheed Veer Narayan Singh International Stadium',\n",
    "       'JSCA International Stadium Complex', 'Barabati Stadium', 'Maharashtra Cricket Association Stadium',\n",
    "       'Dr. Y.S. Rajasekhara Reddy ACA-VDCA Cricket Stadium', 'Punjab Cricket Association IS Bindra Stadium, Mohali',\n",
    "       'M.Chinnaswamy Stadium', 'Holkar Cricket Stadium', 'Vidarbha Cricket Association Stadium, Jamtha', 'Nehru Stadium',\n",
    "       'Saurashtra Cricket Association Stadium']"
   ]
  },
  {
   "cell_type": "code",
   "execution_count": 7,
   "metadata": {},
   "outputs": [],
   "source": [
    "df = df[(df['team1'].isin(consistent_teams)) & (df['team2'].isin(consistent_teams)) & (df['neutral_venue']==0) & (df['venue'].isin(consistent_venues))]"
   ]
  },
  {
   "cell_type": "code",
   "execution_count": 8,
   "metadata": {},
   "outputs": [],
   "source": [
    "df.drop('neutral_venue', inplace=True , axis=1)"
   ]
  },
  {
   "cell_type": "code",
   "execution_count": 9,
   "metadata": {},
   "outputs": [
    {
     "data": {
      "text/plain": [
       "array(['Royal Challengers Bangalore', 'Kings XI Punjab',\n",
       "       'Delhi Daredevils', 'Mumbai Indians', 'Rajasthan Royals',\n",
       "       'Chennai Super Kings', 'Kolkata Knight Riders',\n",
       "       'Sunrisers Hyderabad', 'Delhi Capitals'], dtype=object)"
      ]
     },
     "execution_count": 9,
     "metadata": {},
     "output_type": "execute_result"
    }
   ],
   "source": [
    "# delhi capitals and delhi daredevils are same team\n",
    "df.team1.unique()"
   ]
  },
  {
   "cell_type": "code",
   "execution_count": 10,
   "metadata": {},
   "outputs": [],
   "source": [
    "df['team1'] = np.where(df.team1 == 'Delhi Daredevils' , 'Delhi Capitals' , df.team1)\n",
    "df['team2'] = np.where(df.team2 == 'Delhi Daredevils' , 'Delhi Capitals' , df.team2)\n",
    "df['toss_winner'] = np.where(df.toss_winner == 'Delhi Daredevils' , 'Delhi Capitals' , df.toss_winner)\n",
    "df['winner'] = np.where(df.winner == 'Delhi Daredevils' , 'Delhi Capitals' , df.winner)"
   ]
  },
  {
   "cell_type": "code",
   "execution_count": 11,
   "metadata": {},
   "outputs": [
    {
     "data": {
      "text/plain": [
       "array(['M Chinnaswamy Stadium',\n",
       "       'Punjab Cricket Association Stadium, Mohali', 'Feroz Shah Kotla',\n",
       "       'Wankhede Stadium', 'Sawai Mansingh Stadium',\n",
       "       'MA Chidambaram Stadium, Chepauk', 'Eden Gardens',\n",
       "       'Dr DY Patil Sports Academy', 'Brabourne Stadium',\n",
       "       'Sardar Patel Stadium, Motera',\n",
       "       'Himachal Pradesh Cricket Association Stadium',\n",
       "       'Subrata Roy Sahara Stadium',\n",
       "       'Rajiv Gandhi International Stadium, Uppal',\n",
       "       'Shaheed Veer Narayan Singh International Stadium',\n",
       "       'JSCA International Stadium Complex', 'Barabati Stadium',\n",
       "       'Maharashtra Cricket Association Stadium',\n",
       "       'Dr. Y.S. Rajasekhara Reddy ACA-VDCA Cricket Stadium',\n",
       "       'Punjab Cricket Association IS Bindra Stadium, Mohali',\n",
       "       'M.Chinnaswamy Stadium', 'Holkar Cricket Stadium'], dtype=object)"
      ]
     },
     "execution_count": 11,
     "metadata": {},
     "output_type": "execute_result"
    }
   ],
   "source": [
    "# M Chinnaswamy Stadium and M.Chinnaswamy Stadium are same team\n",
    "# Punjab Cricket Association IS Bindra Stadium, Mohali and Punjab Cricket Association Stadium, Mohali are same\n",
    "df.venue.unique()"
   ]
  },
  {
   "cell_type": "code",
   "execution_count": 12,
   "metadata": {},
   "outputs": [],
   "source": [
    "df['venue'] = np.where(df.venue == 'M.Chinnaswamy Stadium' , 'M Chinnaswamy Stadium' , df.venue)\n",
    "df['venue'] = np.where(df.venue == 'Punjab Cricket Association IS Bindra Stadium, Mohali' , 'Punjab Cricket Association Stadium, Mohali' , df.venue)"
   ]
  },
  {
   "cell_type": "code",
   "execution_count": 13,
   "metadata": {},
   "outputs": [
    {
     "data": {
      "text/plain": [
       "array(['M Chinnaswamy Stadium',\n",
       "       'Punjab Cricket Association Stadium, Mohali', 'Feroz Shah Kotla',\n",
       "       'Wankhede Stadium', 'Sawai Mansingh Stadium',\n",
       "       'MA Chidambaram Stadium, Chepauk', 'Eden Gardens',\n",
       "       'Dr DY Patil Sports Academy', 'Brabourne Stadium',\n",
       "       'Sardar Patel Stadium, Motera',\n",
       "       'Himachal Pradesh Cricket Association Stadium',\n",
       "       'Subrata Roy Sahara Stadium',\n",
       "       'Rajiv Gandhi International Stadium, Uppal',\n",
       "       'Shaheed Veer Narayan Singh International Stadium',\n",
       "       'JSCA International Stadium Complex', 'Barabati Stadium',\n",
       "       'Maharashtra Cricket Association Stadium',\n",
       "       'Dr. Y.S. Rajasekhara Reddy ACA-VDCA Cricket Stadium',\n",
       "       'Holkar Cricket Stadium'], dtype=object)"
      ]
     },
     "execution_count": 13,
     "metadata": {},
     "output_type": "execute_result"
    }
   ],
   "source": [
    "df.venue.unique()"
   ]
  },
  {
   "cell_type": "code",
   "execution_count": 14,
   "metadata": {},
   "outputs": [
    {
     "data": {
      "text/html": [
       "<div>\n",
       "<style scoped>\n",
       "    .dataframe tbody tr th:only-of-type {\n",
       "        vertical-align: middle;\n",
       "    }\n",
       "\n",
       "    .dataframe tbody tr th {\n",
       "        vertical-align: top;\n",
       "    }\n",
       "\n",
       "    .dataframe thead th {\n",
       "        text-align: right;\n",
       "    }\n",
       "</style>\n",
       "<table border=\"1\" class=\"dataframe\">\n",
       "  <thead>\n",
       "    <tr style=\"text-align: right;\">\n",
       "      <th></th>\n",
       "      <th>team1</th>\n",
       "      <th>team2</th>\n",
       "      <th>venue</th>\n",
       "      <th>toss_winner</th>\n",
       "      <th>toss_decision</th>\n",
       "      <th>winner</th>\n",
       "    </tr>\n",
       "  </thead>\n",
       "  <tbody>\n",
       "    <tr>\n",
       "      <th>0</th>\n",
       "      <td>Royal Challengers Bangalore</td>\n",
       "      <td>Kolkata Knight Riders</td>\n",
       "      <td>M Chinnaswamy Stadium</td>\n",
       "      <td>Royal Challengers Bangalore</td>\n",
       "      <td>field</td>\n",
       "      <td>Kolkata Knight Riders</td>\n",
       "    </tr>\n",
       "    <tr>\n",
       "      <th>1</th>\n",
       "      <td>Kings XI Punjab</td>\n",
       "      <td>Chennai Super Kings</td>\n",
       "      <td>Punjab Cricket Association Stadium, Mohali</td>\n",
       "      <td>Chennai Super Kings</td>\n",
       "      <td>bat</td>\n",
       "      <td>Chennai Super Kings</td>\n",
       "    </tr>\n",
       "    <tr>\n",
       "      <th>2</th>\n",
       "      <td>Delhi Capitals</td>\n",
       "      <td>Rajasthan Royals</td>\n",
       "      <td>Feroz Shah Kotla</td>\n",
       "      <td>Rajasthan Royals</td>\n",
       "      <td>bat</td>\n",
       "      <td>Delhi Capitals</td>\n",
       "    </tr>\n",
       "    <tr>\n",
       "      <th>3</th>\n",
       "      <td>Mumbai Indians</td>\n",
       "      <td>Royal Challengers Bangalore</td>\n",
       "      <td>Wankhede Stadium</td>\n",
       "      <td>Mumbai Indians</td>\n",
       "      <td>bat</td>\n",
       "      <td>Royal Challengers Bangalore</td>\n",
       "    </tr>\n",
       "    <tr>\n",
       "      <th>5</th>\n",
       "      <td>Rajasthan Royals</td>\n",
       "      <td>Kings XI Punjab</td>\n",
       "      <td>Sawai Mansingh Stadium</td>\n",
       "      <td>Kings XI Punjab</td>\n",
       "      <td>bat</td>\n",
       "      <td>Rajasthan Royals</td>\n",
       "    </tr>\n",
       "  </tbody>\n",
       "</table>\n",
       "</div>"
      ],
      "text/plain": [
       "                         team1                        team2  \\\n",
       "0  Royal Challengers Bangalore        Kolkata Knight Riders   \n",
       "1              Kings XI Punjab          Chennai Super Kings   \n",
       "2               Delhi Capitals             Rajasthan Royals   \n",
       "3               Mumbai Indians  Royal Challengers Bangalore   \n",
       "5             Rajasthan Royals              Kings XI Punjab   \n",
       "\n",
       "                                        venue                  toss_winner  \\\n",
       "0                       M Chinnaswamy Stadium  Royal Challengers Bangalore   \n",
       "1  Punjab Cricket Association Stadium, Mohali          Chennai Super Kings   \n",
       "2                            Feroz Shah Kotla             Rajasthan Royals   \n",
       "3                            Wankhede Stadium               Mumbai Indians   \n",
       "5                      Sawai Mansingh Stadium              Kings XI Punjab   \n",
       "\n",
       "  toss_decision                       winner  \n",
       "0         field        Kolkata Knight Riders  \n",
       "1           bat          Chennai Super Kings  \n",
       "2           bat               Delhi Capitals  \n",
       "3           bat  Royal Challengers Bangalore  \n",
       "5           bat             Rajasthan Royals  "
      ]
     },
     "execution_count": 14,
     "metadata": {},
     "output_type": "execute_result"
    }
   ],
   "source": [
    "df.head()"
   ]
  },
  {
   "cell_type": "code",
   "execution_count": 15,
   "metadata": {},
   "outputs": [],
   "source": [
    "def getNumber_team(x):\n",
    "    if x=='Royal Challengers Bangalore':\n",
    "        return 0\n",
    "    elif x=='Kings XI Punjab':\n",
    "        return 1\n",
    "    elif x=='Delhi Capitals':\n",
    "        return 2\n",
    "    elif x=='Mumbai Indians':\n",
    "        return 3     \n",
    "    elif x=='Rajasthan Royals':\n",
    "        return 4\n",
    "    elif x=='Chennai Super Kings':\n",
    "        return 5\n",
    "    elif x=='Kolkata Knight Riders':\n",
    "        return 6\n",
    "    else:\n",
    "        return 7"
   ]
  },
  {
   "cell_type": "code",
   "execution_count": 16,
   "metadata": {},
   "outputs": [],
   "source": [
    "df['team1'] = df['team1'].apply(getNumber_team)\n",
    "df['team2'] = df['team2'].apply(getNumber_team)\n",
    "df['toss_winner'] = df['toss_winner'].apply(getNumber_team)\n",
    "df['winner'] = df['winner'].apply(getNumber_team)"
   ]
  },
  {
   "cell_type": "code",
   "execution_count": 17,
   "metadata": {},
   "outputs": [
    {
     "data": {
      "text/plain": [
       "array(['M Chinnaswamy Stadium',\n",
       "       'Punjab Cricket Association Stadium, Mohali', 'Feroz Shah Kotla',\n",
       "       'Wankhede Stadium', 'Sawai Mansingh Stadium',\n",
       "       'MA Chidambaram Stadium, Chepauk', 'Eden Gardens',\n",
       "       'Dr DY Patil Sports Academy', 'Brabourne Stadium',\n",
       "       'Sardar Patel Stadium, Motera',\n",
       "       'Himachal Pradesh Cricket Association Stadium',\n",
       "       'Subrata Roy Sahara Stadium',\n",
       "       'Rajiv Gandhi International Stadium, Uppal',\n",
       "       'Shaheed Veer Narayan Singh International Stadium',\n",
       "       'JSCA International Stadium Complex', 'Barabati Stadium',\n",
       "       'Maharashtra Cricket Association Stadium',\n",
       "       'Dr. Y.S. Rajasekhara Reddy ACA-VDCA Cricket Stadium',\n",
       "       'Holkar Cricket Stadium'], dtype=object)"
      ]
     },
     "execution_count": 17,
     "metadata": {},
     "output_type": "execute_result"
    }
   ],
   "source": [
    "df.venue.unique()"
   ]
  },
  {
   "cell_type": "code",
   "execution_count": 18,
   "metadata": {},
   "outputs": [],
   "source": [
    "def getNumber_venue(x):\n",
    "    if x=='M Chinnaswamy Stadium':\n",
    "        return 1\n",
    "    elif x=='Punjab Cricket Association Stadium, Mohali':\n",
    "        return 2\n",
    "    elif x=='Feroz Shah Kotla':\n",
    "        return 3\n",
    "    elif x=='Wankhede Stadium':\n",
    "        return 4\n",
    "    elif x=='Sawai Mansingh Stadium':\n",
    "        return 5\n",
    "    elif x=='MA Chidambaram Stadium, Chepauk':\n",
    "        return 6\n",
    "    elif x=='Eden Gardens':\n",
    "        return 7\n",
    "    elif x=='Dr DY Patil Sports Academy':\n",
    "        return 8\n",
    "    elif x=='Brabourne Stadium':\n",
    "        return 9\n",
    "    elif x=='Sardar Patel Stadium, Motera':\n",
    "        return 10 \n",
    "    elif x=='Himachal Pradesh Cricket Association Stadium':\n",
    "        return 11\n",
    "    elif x=='Subrata Roy Sahara Stadium':\n",
    "        return 12\n",
    "    elif x=='Rajiv Gandhi International Stadium, Uppal':\n",
    "        return 13\n",
    "    elif x=='Shaheed Veer Narayan Singh International Stadium':\n",
    "        return 14\n",
    "    elif x=='JSCA International Stadium Complex':\n",
    "        return 15\n",
    "    elif x=='Maharashtra Cricket Association Stadium':\n",
    "        return 16\n",
    "    elif x=='Dr. Y.S. Rajasekhara Reddy ACA-VDCA Cricket Stadium':\n",
    "        return 17\n",
    "    elif x=='Barabati Stadium':\n",
    "        return 18\n",
    "    else:\n",
    "        return 19"
   ]
  },
  {
   "cell_type": "code",
   "execution_count": 19,
   "metadata": {},
   "outputs": [],
   "source": [
    "df['venue'] = df['venue'].apply(getNumber_venue)"
   ]
  },
  {
   "cell_type": "code",
   "execution_count": 20,
   "metadata": {},
   "outputs": [],
   "source": [
    "def getNumber_tossDecision(x):\n",
    "    if x=='field':\n",
    "        return 0\n",
    "    else:\n",
    "        return 1"
   ]
  },
  {
   "cell_type": "code",
   "execution_count": 21,
   "metadata": {},
   "outputs": [],
   "source": [
    "df['toss_decision'] = df['toss_decision'].apply(getNumber_tossDecision)"
   ]
  },
  {
   "cell_type": "code",
   "execution_count": 22,
   "metadata": {},
   "outputs": [
    {
     "data": {
      "text/plain": [
       "team1            int64\n",
       "team2            int64\n",
       "venue            int64\n",
       "toss_winner      int64\n",
       "toss_decision    int64\n",
       "winner           int64\n",
       "dtype: object"
      ]
     },
     "execution_count": 22,
     "metadata": {},
     "output_type": "execute_result"
    }
   ],
   "source": [
    "df.dtypes"
   ]
  },
  {
   "cell_type": "code",
   "execution_count": 23,
   "metadata": {},
   "outputs": [
    {
     "data": {
      "text/html": [
       "<div>\n",
       "<style scoped>\n",
       "    .dataframe tbody tr th:only-of-type {\n",
       "        vertical-align: middle;\n",
       "    }\n",
       "\n",
       "    .dataframe tbody tr th {\n",
       "        vertical-align: top;\n",
       "    }\n",
       "\n",
       "    .dataframe thead th {\n",
       "        text-align: right;\n",
       "    }\n",
       "</style>\n",
       "<table border=\"1\" class=\"dataframe\">\n",
       "  <thead>\n",
       "    <tr style=\"text-align: right;\">\n",
       "      <th></th>\n",
       "      <th>team1</th>\n",
       "      <th>team2</th>\n",
       "      <th>venue</th>\n",
       "      <th>toss_winner</th>\n",
       "      <th>toss_decision</th>\n",
       "      <th>winner</th>\n",
       "    </tr>\n",
       "  </thead>\n",
       "  <tbody>\n",
       "    <tr>\n",
       "      <th>0</th>\n",
       "      <td>0</td>\n",
       "      <td>6</td>\n",
       "      <td>1</td>\n",
       "      <td>0</td>\n",
       "      <td>0</td>\n",
       "      <td>6</td>\n",
       "    </tr>\n",
       "    <tr>\n",
       "      <th>1</th>\n",
       "      <td>1</td>\n",
       "      <td>5</td>\n",
       "      <td>2</td>\n",
       "      <td>5</td>\n",
       "      <td>1</td>\n",
       "      <td>5</td>\n",
       "    </tr>\n",
       "    <tr>\n",
       "      <th>2</th>\n",
       "      <td>2</td>\n",
       "      <td>4</td>\n",
       "      <td>3</td>\n",
       "      <td>4</td>\n",
       "      <td>1</td>\n",
       "      <td>2</td>\n",
       "    </tr>\n",
       "    <tr>\n",
       "      <th>3</th>\n",
       "      <td>3</td>\n",
       "      <td>0</td>\n",
       "      <td>4</td>\n",
       "      <td>3</td>\n",
       "      <td>1</td>\n",
       "      <td>0</td>\n",
       "    </tr>\n",
       "    <tr>\n",
       "      <th>5</th>\n",
       "      <td>4</td>\n",
       "      <td>1</td>\n",
       "      <td>5</td>\n",
       "      <td>1</td>\n",
       "      <td>1</td>\n",
       "      <td>4</td>\n",
       "    </tr>\n",
       "    <tr>\n",
       "      <th>...</th>\n",
       "      <td>...</td>\n",
       "      <td>...</td>\n",
       "      <td>...</td>\n",
       "      <td>...</td>\n",
       "      <td>...</td>\n",
       "      <td>...</td>\n",
       "    </tr>\n",
       "    <tr>\n",
       "      <th>751</th>\n",
       "      <td>3</td>\n",
       "      <td>6</td>\n",
       "      <td>4</td>\n",
       "      <td>3</td>\n",
       "      <td>0</td>\n",
       "      <td>3</td>\n",
       "    </tr>\n",
       "    <tr>\n",
       "      <th>752</th>\n",
       "      <td>3</td>\n",
       "      <td>5</td>\n",
       "      <td>6</td>\n",
       "      <td>5</td>\n",
       "      <td>1</td>\n",
       "      <td>3</td>\n",
       "    </tr>\n",
       "    <tr>\n",
       "      <th>753</th>\n",
       "      <td>2</td>\n",
       "      <td>7</td>\n",
       "      <td>17</td>\n",
       "      <td>2</td>\n",
       "      <td>0</td>\n",
       "      <td>2</td>\n",
       "    </tr>\n",
       "    <tr>\n",
       "      <th>754</th>\n",
       "      <td>5</td>\n",
       "      <td>2</td>\n",
       "      <td>17</td>\n",
       "      <td>5</td>\n",
       "      <td>0</td>\n",
       "      <td>5</td>\n",
       "    </tr>\n",
       "    <tr>\n",
       "      <th>755</th>\n",
       "      <td>3</td>\n",
       "      <td>5</td>\n",
       "      <td>13</td>\n",
       "      <td>3</td>\n",
       "      <td>1</td>\n",
       "      <td>3</td>\n",
       "    </tr>\n",
       "  </tbody>\n",
       "</table>\n",
       "<p>510 rows × 6 columns</p>\n",
       "</div>"
      ],
      "text/plain": [
       "     team1  team2  venue  toss_winner  toss_decision  winner\n",
       "0        0      6      1            0              0       6\n",
       "1        1      5      2            5              1       5\n",
       "2        2      4      3            4              1       2\n",
       "3        3      0      4            3              1       0\n",
       "5        4      1      5            1              1       4\n",
       "..     ...    ...    ...          ...            ...     ...\n",
       "751      3      6      4            3              0       3\n",
       "752      3      5      6            5              1       3\n",
       "753      2      7     17            2              0       2\n",
       "754      5      2     17            5              0       5\n",
       "755      3      5     13            3              1       3\n",
       "\n",
       "[510 rows x 6 columns]"
      ]
     },
     "execution_count": 23,
     "metadata": {},
     "output_type": "execute_result"
    }
   ],
   "source": [
    "df"
   ]
  },
  {
   "cell_type": "code",
   "execution_count": 24,
   "metadata": {},
   "outputs": [
    {
     "data": {
      "text/html": [
       "<div>\n",
       "<style scoped>\n",
       "    .dataframe tbody tr th:only-of-type {\n",
       "        vertical-align: middle;\n",
       "    }\n",
       "\n",
       "    .dataframe tbody tr th {\n",
       "        vertical-align: top;\n",
       "    }\n",
       "\n",
       "    .dataframe thead th {\n",
       "        text-align: right;\n",
       "    }\n",
       "</style>\n",
       "<table border=\"1\" class=\"dataframe\">\n",
       "  <thead>\n",
       "    <tr style=\"text-align: right;\">\n",
       "      <th></th>\n",
       "      <th>team1</th>\n",
       "      <th>team2</th>\n",
       "      <th>venue</th>\n",
       "      <th>toss_winner</th>\n",
       "      <th>toss_decision</th>\n",
       "      <th>winner</th>\n",
       "    </tr>\n",
       "  </thead>\n",
       "  <tbody>\n",
       "    <tr>\n",
       "      <th>team1</th>\n",
       "      <td>1.000000</td>\n",
       "      <td>-0.130983</td>\n",
       "      <td>0.543821</td>\n",
       "      <td>0.395610</td>\n",
       "      <td>0.171171</td>\n",
       "      <td>0.501920</td>\n",
       "    </tr>\n",
       "    <tr>\n",
       "      <th>team2</th>\n",
       "      <td>-0.130983</td>\n",
       "      <td>1.000000</td>\n",
       "      <td>-0.064434</td>\n",
       "      <td>0.422630</td>\n",
       "      <td>-0.016893</td>\n",
       "      <td>0.324945</td>\n",
       "    </tr>\n",
       "    <tr>\n",
       "      <th>venue</th>\n",
       "      <td>0.543821</td>\n",
       "      <td>-0.064434</td>\n",
       "      <td>1.000000</td>\n",
       "      <td>0.207111</td>\n",
       "      <td>0.092240</td>\n",
       "      <td>0.294169</td>\n",
       "    </tr>\n",
       "    <tr>\n",
       "      <th>toss_winner</th>\n",
       "      <td>0.395610</td>\n",
       "      <td>0.422630</td>\n",
       "      <td>0.207111</td>\n",
       "      <td>1.000000</td>\n",
       "      <td>0.085666</td>\n",
       "      <td>0.426797</td>\n",
       "    </tr>\n",
       "    <tr>\n",
       "      <th>toss_decision</th>\n",
       "      <td>0.171171</td>\n",
       "      <td>-0.016893</td>\n",
       "      <td>0.092240</td>\n",
       "      <td>0.085666</td>\n",
       "      <td>1.000000</td>\n",
       "      <td>0.110825</td>\n",
       "    </tr>\n",
       "    <tr>\n",
       "      <th>winner</th>\n",
       "      <td>0.501920</td>\n",
       "      <td>0.324945</td>\n",
       "      <td>0.294169</td>\n",
       "      <td>0.426797</td>\n",
       "      <td>0.110825</td>\n",
       "      <td>1.000000</td>\n",
       "    </tr>\n",
       "  </tbody>\n",
       "</table>\n",
       "</div>"
      ],
      "text/plain": [
       "                  team1     team2     venue  toss_winner  toss_decision  \\\n",
       "team1          1.000000 -0.130983  0.543821     0.395610       0.171171   \n",
       "team2         -0.130983  1.000000 -0.064434     0.422630      -0.016893   \n",
       "venue          0.543821 -0.064434  1.000000     0.207111       0.092240   \n",
       "toss_winner    0.395610  0.422630  0.207111     1.000000       0.085666   \n",
       "toss_decision  0.171171 -0.016893  0.092240     0.085666       1.000000   \n",
       "winner         0.501920  0.324945  0.294169     0.426797       0.110825   \n",
       "\n",
       "                 winner  \n",
       "team1          0.501920  \n",
       "team2          0.324945  \n",
       "venue          0.294169  \n",
       "toss_winner    0.426797  \n",
       "toss_decision  0.110825  \n",
       "winner         1.000000  "
      ]
     },
     "execution_count": 24,
     "metadata": {},
     "output_type": "execute_result"
    }
   ],
   "source": [
    "df.corr()"
   ]
  },
  {
   "cell_type": "code",
   "execution_count": 25,
   "metadata": {},
   "outputs": [
    {
     "data": {
      "text/plain": [
       "<matplotlib.axes._subplots.AxesSubplot at 0x184fa674b20>"
      ]
     },
     "execution_count": 25,
     "metadata": {},
     "output_type": "execute_result"
    },
    {
     "data": {
      "image/png": "[encoded data removed]",
      "text/plain": [
       "<Figure size 640x480 with 2 Axes>"
      ]
     },
     "metadata": {},
     "output_type": "display_data"
    }
   ],
   "source": [
    "import seaborn as sns\n",
    "sns.heatmap(df.corr())"
   ]
  },
  {
   "cell_type": "code",
   "execution_count": 26,
   "metadata": {},
   "outputs": [],
   "source": [
    "X = df.drop(labels='winner', axis=1)\n",
    "y = df['winner']\n",
    "\n",
    "X = np.array(X)\n",
    "y = np.array(y)"
   ]
  },
  {
   "cell_type": "code",
   "execution_count": 27,
   "metadata": {},
   "outputs": [],
   "source": [
    "zeros, ones = 0, 0\n",
    "\n",
    "for i in range(len(X)):\n",
    "    if y[i] == X[i][0]:\n",
    "        if zeros <= 250:\n",
    "            y[i] = 0\n",
    "            zeros += 1\n",
    "        else:\n",
    "            y[i] = 1\n",
    "            ones += 1\n",
    "            t = X[i][0]\n",
    "            X[i][0] = X[i][1] \n",
    "            X[i][1] = t\n",
    "    elif y[i] == X[i][1]:\n",
    "        if ones <= 250:\n",
    "            y[i] = 1\n",
    "            ones += 1\n",
    "        else:\n",
    "            y[i] = 0\n",
    "            zeros += 1\n",
    "            t = X[i][0]\n",
    "            X[i][0] = X[i][1] \n",
    "            X[i][1] = t\n"
   ]
  },
  {
   "cell_type": "code",
   "execution_count": 28,
   "metadata": {},
   "outputs": [
    {
     "name": "stdout",
     "output_type": "stream",
     "text": [
      "(array([0, 1, 7]), array([251, 256,   3], dtype=int64))\n"
     ]
    }
   ],
   "source": [
    "X = np.array(X , dtype='int32')\n",
    "y = np.array(y , dtype='int32')\n",
    "\n",
    "y = y.ravel()\n",
    "\n",
    "print(np.unique(y, return_counts=True))\n",
    "# now balanced dataset"
   ]
  },
  {
   "cell_type": "code",
   "execution_count": 29,
   "metadata": {},
   "outputs": [],
   "source": [
    "from sklearn.model_selection import train_test_split\n",
    "X_train, X_test, y_train,y_test = train_test_split(X, y, test_size=0.2 , random_state=0)"
   ]
  },
  {
   "cell_type": "code",
   "execution_count": 30,
   "metadata": {},
   "outputs": [
    {
     "name": "stdout",
     "output_type": "stream",
     "text": [
      "accuracy :  0.5196078431372549\n",
      "time :  0.012113094329833984\n",
      "              precision    recall  f1-score   support\n",
      "\n",
      "           0       0.53      0.46      0.49        52\n",
      "           1       0.51      0.58      0.54        50\n",
      "\n",
      "    accuracy                           0.52       102\n",
      "   macro avg       0.52      0.52      0.52       102\n",
      "weighted avg       0.52      0.52      0.52       102\n",
      "\n",
      "[[24 28]\n",
      " [21 29]]\n"
     ]
    }
   ],
   "source": [
    "alg1 = LogisticRegression(solver='liblinear')\n",
    "\n",
    "start = time.time()\n",
    "alg1.fit(X_train , y_train)\n",
    "end = time.time()\n",
    "total_time1 = end - start\n",
    "\n",
    "y_pred1 = alg1.predict(X_test)\n",
    "\n",
    "print('accuracy : ', alg1.score(X_test , y_test))\n",
    "print('time : ' , total_time1)\n",
    "print(classification_report(y_test , y_pred1))\n",
    "print(confusion_matrix(y_test , y_pred1))"
   ]
  },
  {
   "cell_type": "code",
   "execution_count": 31,
   "metadata": {},
   "outputs": [
    {
     "name": "stdout",
     "output_type": "stream",
     "text": [
      "accuracy :  0.5294117647058824\n",
      "time :  0.07212567329406738\n",
      "              precision    recall  f1-score   support\n",
      "\n",
      "           0       0.54      0.48      0.51        52\n",
      "           1       0.52      0.58      0.55        50\n",
      "\n",
      "    accuracy                           0.53       102\n",
      "   macro avg       0.53      0.53      0.53       102\n",
      "weighted avg       0.53      0.53      0.53       102\n",
      "\n",
      "[[25 27]\n",
      " [21 29]]\n"
     ]
    }
   ],
   "source": [
    "alg2 = RandomForestClassifier(n_estimators=60)\n",
    "\n",
    "start = time.time()\n",
    "alg2.fit(X_train , y_train)\n",
    "end = time.time()\n",
    "total_time2 = end - start\n",
    "\n",
    "y_pred2 = alg2.predict(X_test)\n",
    "\n",
    "print('accuracy : ', alg2.score(X_test , y_test))\n",
    "print('time : ' , total_time2)\n",
    "print(classification_report(y_test , y_pred2))\n",
    "print(confusion_matrix(y_test , y_pred2))"
   ]
  },
  {
   "cell_type": "code",
   "execution_count": 32,
   "metadata": {},
   "outputs": [
    {
     "name": "stdout",
     "output_type": "stream",
     "text": [
      "accuracy :  0.6470588235294118\n",
      "time :  0.0\n",
      "              precision    recall  f1-score   support\n",
      "\n",
      "           0       0.64      0.69      0.67        52\n",
      "           1       0.65      0.60      0.63        50\n",
      "\n",
      "    accuracy                           0.65       102\n",
      "   macro avg       0.65      0.65      0.65       102\n",
      "weighted avg       0.65      0.65      0.65       102\n",
      "\n",
      "[[36 16]\n",
      " [20 30]]\n"
     ]
    }
   ],
   "source": [
    "alg3 = DecisionTreeClassifier(max_depth=1 , criterion='gini')\n",
    "\n",
    "start = time.time()\n",
    "alg3.fit(X_train , y_train)\n",
    "end = time.time()\n",
    "total_time3 = end - start\n",
    "\n",
    "y_pred3 = alg3.predict(X_test)\n",
    "\n",
    "print('accuracy : ', alg3.score(X_test , y_test))\n",
    "print('time : ' , total_time3)\n",
    "print(classification_report(y_test , y_pred3))\n",
    "print(confusion_matrix(y_test , y_pred3))"
   ]
  },
  {
   "cell_type": "code",
   "execution_count": 33,
   "metadata": {},
   "outputs": [
    {
     "name": "stdout",
     "output_type": "stream",
     "text": [
      "accuracy :  0.5588235294117647\n",
      "time :  0.012028217315673828\n",
      "              precision    recall  f1-score   support\n",
      "\n",
      "           0       0.58      0.50      0.54        52\n",
      "           1       0.54      0.62      0.58        50\n",
      "\n",
      "    accuracy                           0.56       102\n",
      "   macro avg       0.56      0.56      0.56       102\n",
      "weighted avg       0.56      0.56      0.56       102\n",
      "\n",
      "[[26 26]\n",
      " [19 31]]\n"
     ]
    }
   ],
   "source": [
    "alg4 = BernoulliNB()\n",
    "\n",
    "start = time.time()\n",
    "alg4.fit(X_train,y_train)\n",
    "end = time.time()\n",
    "total_time4 = end - start\n",
    "\n",
    "y_pred4 = alg4.predict(X_test)\n",
    "\n",
    "print('accuracy : ', alg4.score(X_test , y_test))\n",
    "print('time : ' , total_time4)\n",
    "print(classification_report(y_test , y_pred4))\n",
    "print(confusion_matrix(y_test , y_pred4))"
   ]
  },
  {
   "cell_type": "code",
   "execution_count": 34,
   "metadata": {},
   "outputs": [
    {
     "name": "stdout",
     "output_type": "stream",
     "text": [
      "accuracy :  0.5490196078431373\n",
      "time :  0.0\n",
      "              precision    recall  f1-score   support\n",
      "\n",
      "           0       0.60      0.52      0.56        52\n",
      "           1       0.57      0.58      0.57        50\n",
      "           7       0.00      0.00      0.00         0\n",
      "\n",
      "    accuracy                           0.55       102\n",
      "   macro avg       0.39      0.37      0.38       102\n",
      "weighted avg       0.58      0.55      0.57       102\n",
      "\n",
      "[[27 22  3]\n",
      " [18 29  3]\n",
      " [ 0  0  0]]\n"
     ]
    }
   ],
   "source": [
    "alg5 = GaussianNB()\n",
    "\n",
    "start = time.time()\n",
    "alg5.fit(X_train,y_train)\n",
    "end = time.time()\n",
    "total_time5 = end - start\n",
    "\n",
    "y_pred5 = alg5.predict(X_test)\n",
    "\n",
    "print('accuracy : ', alg5.score(X_test , y_test))\n",
    "print('time : ' , total_time5)\n",
    "print(classification_report(y_test , y_pred5))\n",
    "print(confusion_matrix(y_test , y_pred5))"
   ]
  },
  {
   "cell_type": "code",
   "execution_count": 35,
   "metadata": {},
   "outputs": [
    {
     "name": "stdout",
     "output_type": "stream",
     "text": [
      "accuracy :  0.46078431372549017\n",
      "time :  0.002338886260986328\n",
      "              precision    recall  f1-score   support\n",
      "\n",
      "           0       0.50      0.44      0.47        52\n",
      "           1       0.46      0.48      0.47        50\n",
      "           7       0.00      0.00      0.00         0\n",
      "\n",
      "    accuracy                           0.46       102\n",
      "   macro avg       0.32      0.31      0.31       102\n",
      "weighted avg       0.48      0.46      0.47       102\n",
      "\n",
      "[[23 28  1]\n",
      " [23 24  3]\n",
      " [ 0  0  0]]\n"
     ]
    }
   ],
   "source": [
    "alg6 = MultinomialNB()\n",
    "\n",
    "start = time.time()\n",
    "alg6.fit(X_train,y_train)\n",
    "end = time.time()\n",
    "total_time6 = end - start\n",
    "\n",
    "y_pred6 = alg6.predict(X_test)\n",
    "\n",
    "print('accuracy : ', alg6.score(X_test , y_test))\n",
    "print('time : ' , total_time6)\n",
    "print(classification_report(y_test , y_pred6))\n",
    "print(confusion_matrix(y_test , y_pred6))"
   ]
  },
  {
   "cell_type": "code",
   "execution_count": 37,
   "metadata": {},
   "outputs": [],
   "source": [
    "x_axis = []\n",
    "y_axis = []\n",
    "for k in range(1, 26, 2):\n",
    "    clf = KNeighborsClassifier(n_neighbors = k)\n",
    "    score = cross_val_score(clf, X_train, y_train, cv = KFold(n_splits=5, shuffle=True, random_state=0))\n",
    "    x_axis.append(k)\n",
    "    y_axis.append(score.mean())"
   ]
  },
  {
   "cell_type": "code",
   "execution_count": 38,
   "metadata": {},
   "outputs": [
    {
     "data": {
      "image/png": "[encoded data removed]",
      "text/plain": [
       "<Figure size 640x480 with 1 Axes>"
      ]
     },
     "metadata": {},
     "output_type": "display_data"
    }
   ],
   "source": [
    "import matplotlib.pyplot as plt\n",
    "plt.plot(x_axis, y_axis)\n",
    "plt.xlabel(\"k\")\n",
    "plt.ylabel(\"cross_val_score\")\n",
    "plt.title(\"variation of score on different values of k\")\n",
    "plt.show()"
   ]
  },
  {
   "cell_type": "code",
   "execution_count": 39,
   "metadata": {},
   "outputs": [
    {
     "name": "stdout",
     "output_type": "stream",
     "text": [
      "accuracy :  0.5686274509803921\n",
      "time :  0.0025320053100585938\n",
      "              precision    recall  f1-score   support\n",
      "\n",
      "           0       0.57      0.60      0.58        52\n",
      "           1       0.56      0.54      0.55        50\n",
      "\n",
      "    accuracy                           0.57       102\n",
      "   macro avg       0.57      0.57      0.57       102\n",
      "weighted avg       0.57      0.57      0.57       102\n",
      "\n",
      "[[31 21]\n",
      " [23 27]]\n"
     ]
    }
   ],
   "source": [
    "alg7 = KNeighborsClassifier(n_neighbors=19, weights='distance', algorithm='auto', p=2, metric='minkowski')\n",
    "\n",
    "start = time.time()\n",
    "alg7.fit(X_train, y_train)\n",
    "end = time.time()\n",
    "total_time7 = end - start\n",
    "\n",
    "y_pred7 = alg7.predict(X_test)\n",
    "\n",
    "print('accuracy : ', alg7.score(X_test , y_test))\n",
    "print('time : ' , total_time7)\n",
    "print(classification_report(y_test , y_pred7))\n",
    "print(confusion_matrix(y_test , y_pred7))"
   ]
  },
  {
   "cell_type": "code",
   "execution_count": 40,
   "metadata": {},
   "outputs": [
    {
     "name": "stdout",
     "output_type": "stream",
     "text": [
      "SVC(C=100000.0, gamma=0.005)\n",
      "accuracy :  0.5784313725490197\n",
      "time :  22.581387042999268\n",
      "              precision    recall  f1-score   support\n",
      "\n",
      "           0       0.62      0.48      0.54        52\n",
      "           1       0.56      0.68      0.61        50\n",
      "           7       0.00      0.00      0.00         0\n",
      "\n",
      "    accuracy                           0.58       102\n",
      "   macro avg       0.39      0.39      0.39       102\n",
      "weighted avg       0.59      0.58      0.58       102\n",
      "\n",
      "[[25 27  0]\n",
      " [15 34  1]\n",
      " [ 0  0  0]]\n"
     ]
    }
   ],
   "source": [
    "clf = SVC(kernel='rbf')\n",
    "grid = {'C': [1e2,1e3, 5e3, 1e4, 5e4, 1e5],\n",
    "       'gamma': [1e-3, 5e-4, 1e-4, 5e-3]}\n",
    "\n",
    "alg8 = GridSearchCV(clf, grid)\n",
    "\n",
    "start = time.time()\n",
    "alg8.fit(X_train, y_train)\n",
    "end = time.time()\n",
    "total_time8 = end - start\n",
    "\n",
    "y_pred8 = alg8.predict(X_test)\n",
    "\n",
    "print(alg8.best_estimator_)\n",
    "\n",
    "print('accuracy : ', alg8.score(X_test , y_test))\n",
    "print('time : ' , total_time8)\n",
    "print(classification_report(y_test , y_pred8))\n",
    "print(confusion_matrix(y_test , y_pred8))"
   ]
  },
  {
   "cell_type": "code",
   "execution_count": 41,
   "metadata": {},
   "outputs": [
    {
     "name": "stdout",
     "output_type": "stream",
     "text": [
      "accuracy :  0.5490196078431373\n",
      "time :  0.03529834747314453\n",
      "              precision    recall  f1-score   support\n",
      "\n",
      "           0       0.57      0.44      0.50        52\n",
      "           1       0.53      0.66      0.59        50\n",
      "\n",
      "    accuracy                           0.55       102\n",
      "   macro avg       0.55      0.55      0.54       102\n",
      "weighted avg       0.55      0.55      0.54       102\n",
      "\n",
      "[[23 29]\n",
      " [17 33]]\n"
     ]
    }
   ],
   "source": [
    "alg9 = LinearSVC(multi_class='crammer_singer')\n",
    "\n",
    "start = time.time()\n",
    "alg9.fit(X_train, y_train)\n",
    "end = time.time()\n",
    "total_time9 = end - start\n",
    "\n",
    "y_pred9 = alg9.predict(X_test)\n",
    "\n",
    "print('accuracy : ', alg9.score(X_test , y_test))\n",
    "print('time : ' , total_time9)\n",
    "print(classification_report(y_test , y_pred9))\n",
    "print(confusion_matrix(y_test , y_pred9))"
   ]
  },
  {
   "cell_type": "code",
   "execution_count": 42,
   "metadata": {},
   "outputs": [
    {
     "name": "stdout",
     "output_type": "stream",
     "text": [
      "accuracy :  0.5\n",
      "time :  0.10854411125183105\n",
      "              precision    recall  f1-score   support\n",
      "\n",
      "           0       0.51      0.40      0.45        52\n",
      "           1       0.49      0.60      0.54        50\n",
      "\n",
      "    accuracy                           0.50       102\n",
      "   macro avg       0.50      0.50      0.50       102\n",
      "weighted avg       0.50      0.50      0.50       102\n",
      "\n",
      "[[21 31]\n",
      " [20 30]]\n"
     ]
    }
   ],
   "source": [
    "ridge = RidgeClassifier()\n",
    "\n",
    "parameters={'alpha':[1e-15,1e-10,1e-8,1e-3,1e-2,1,5,10,20,30,35,40]}\n",
    "alg10=GridSearchCV(ridge,parameters)\n",
    "\n",
    "start = time.time()\n",
    "alg10.fit(X_train, y_train)\n",
    "end = time.time()\n",
    "total_time10 = end - start\n",
    "\n",
    "y_pred10 = alg10.predict(X_test)\n",
    "\n",
    "print('accuracy : ', alg10.score(X_test , y_test))\n",
    "print('time : ' , total_time10)\n",
    "print(classification_report(y_test , y_pred10))\n",
    "print(confusion_matrix(y_test , y_pred10))"
   ]
  },
  {
   "cell_type": "code",
   "execution_count": 43,
   "metadata": {},
   "outputs": [
    {
     "name": "stdout",
     "output_type": "stream",
     "text": [
      "alg1 :  [0]\n",
      "alg2 :  [1]\n",
      "alg3 :  [1]\n",
      "alg4 :  [0]\n",
      "alg5 :  [1]\n",
      "alg6 :  [1]\n",
      "alg7 :  [1]\n",
      "alg8 :  [0]\n",
      "alg9 :  [0]\n",
      "alg10 : [1]\n"
     ]
    }
   ],
   "source": [
    "test = np.array([2, 4, 1, 1, 1]).reshape(1,-1)\n",
    "\n",
    "print('alg1 : ' , alg1.predict(test))\n",
    "print('alg2 : ' , alg2.predict(test))\n",
    "print('alg3 : ' , alg3.predict(test))\n",
    "print('alg4 : ' , alg4.predict(test))\n",
    "print('alg5 : ' , alg5.predict(test))\n",
    "print('alg6 : ' , alg6.predict(test))\n",
    "print('alg7 : ' , alg7.predict(test))\n",
    "print('alg8 : ' , alg8.predict(test))\n",
    "print('alg9 : ' , alg9.predict(test))\n",
    "print('alg10 :' , alg10.predict(test))"
   ]
  },
  {
   "cell_type": "code",
   "execution_count": 44,
   "metadata": {},
   "outputs": [
    {
     "name": "stdout",
     "output_type": "stream",
     "text": [
      "alg1 :  [0]\n",
      "alg2 :  [0]\n",
      "alg3 :  [0]\n",
      "alg4 :  [0]\n",
      "alg5 :  [0]\n",
      "alg6 :  [0]\n",
      "alg7 :  [1]\n",
      "alg8 :  [1]\n",
      "alg9 :  [0]\n",
      "alg10 : [0]\n"
     ]
    }
   ],
   "source": [
    "test = np.array([4, 2, 1, 0, 1]).reshape(1,-1)\n",
    "\n",
    "print('alg1 : ' , alg1.predict(test))\n",
    "print('alg2 : ' , alg2.predict(test))\n",
    "print('alg3 : ' , alg3.predict(test))\n",
    "print('alg4 : ' , alg4.predict(test))\n",
    "print('alg5 : ' , alg5.predict(test))\n",
    "print('alg6 : ' , alg6.predict(test))\n",
    "print('alg7 : ' , alg7.predict(test))\n",
    "print('alg8 : ' , alg8.predict(test))\n",
    "print('alg9 : ' , alg9.predict(test))\n",
    "print('alg10 :' , alg10.predict(test))"
   ]
  },
  {
   "cell_type": "code",
   "execution_count": 45,
   "metadata": {},
   "outputs": [],
   "source": [
    "df_model=pd.DataFrame({\n",
    "'Model_Applied':['Logistic_Regression', 'Random_Forest', 'Decision_tree', 'BernoulliNB', 'GausianNB', 'MultinomialNB', 'KNN', 'SVC', 'Linear_SVC', 'Ridge_Classifier'],\n",
    "'Accuracy':[alg1.score(X_test,y_test), alg2.score(X_test,y_test), alg3.score(X_test,y_test), alg4.score(X_test,y_test),\n",
    "            alg5.score(X_test,y_test), alg6.score(X_test,y_test), alg7.score(X_test,y_test), alg8.score(X_test,y_test),\n",
    "            alg9.score(X_test,y_test), alg10.score(X_test,y_test)],\n",
    "'Training_Time':[total_time1, total_time2, total_time3, total_time4, total_time5, total_time6, total_time7, total_time8, \n",
    "                 total_time9, total_time10]})"
   ]
  },
  {
   "cell_type": "code",
   "execution_count": 46,
   "metadata": {},
   "outputs": [
    {
     "data": {
      "text/html": [
       "<div>\n",
       "<style scoped>\n",
       "    .dataframe tbody tr th:only-of-type {\n",
       "        vertical-align: middle;\n",
       "    }\n",
       "\n",
       "    .dataframe tbody tr th {\n",
       "        vertical-align: top;\n",
       "    }\n",
       "\n",
       "    .dataframe thead th {\n",
       "        text-align: right;\n",
       "    }\n",
       "</style>\n",
       "<table border=\"1\" class=\"dataframe\">\n",
       "  <thead>\n",
       "    <tr style=\"text-align: right;\">\n",
       "      <th></th>\n",
       "      <th>Model_Applied</th>\n",
       "      <th>Accuracy</th>\n",
       "      <th>Training_Time</th>\n",
       "    </tr>\n",
       "  </thead>\n",
       "  <tbody>\n",
       "    <tr>\n",
       "      <th>0</th>\n",
       "      <td>Logistic_Regression</td>\n",
       "      <td>0.519608</td>\n",
       "      <td>0.012113</td>\n",
       "    </tr>\n",
       "    <tr>\n",
       "      <th>1</th>\n",
       "      <td>Random_Forest</td>\n",
       "      <td>0.529412</td>\n",
       "      <td>0.072126</td>\n",
       "    </tr>\n",
       "    <tr>\n",
       "      <th>2</th>\n",
       "      <td>Decision_tree</td>\n",
       "      <td>0.647059</td>\n",
       "      <td>0.000000</td>\n",
       "    </tr>\n",
       "    <tr>\n",
       "      <th>3</th>\n",
       "      <td>BernoulliNB</td>\n",
       "      <td>0.558824</td>\n",
       "      <td>0.012028</td>\n",
       "    </tr>\n",
       "    <tr>\n",
       "      <th>4</th>\n",
       "      <td>GausianNB</td>\n",
       "      <td>0.549020</td>\n",
       "      <td>0.000000</td>\n",
       "    </tr>\n",
       "    <tr>\n",
       "      <th>5</th>\n",
       "      <td>MultinomialNB</td>\n",
       "      <td>0.460784</td>\n",
       "      <td>0.002339</td>\n",
       "    </tr>\n",
       "    <tr>\n",
       "      <th>6</th>\n",
       "      <td>KNN</td>\n",
       "      <td>0.568627</td>\n",
       "      <td>0.002532</td>\n",
       "    </tr>\n",
       "    <tr>\n",
       "      <th>7</th>\n",
       "      <td>SVC</td>\n",
       "      <td>0.578431</td>\n",
       "      <td>22.581387</td>\n",
       "    </tr>\n",
       "    <tr>\n",
       "      <th>8</th>\n",
       "      <td>Linear_SVC</td>\n",
       "      <td>0.549020</td>\n",
       "      <td>0.035298</td>\n",
       "    </tr>\n",
       "    <tr>\n",
       "      <th>9</th>\n",
       "      <td>Ridge_Classifier</td>\n",
       "      <td>0.500000</td>\n",
       "      <td>0.108544</td>\n",
       "    </tr>\n",
       "  </tbody>\n",
       "</table>\n",
       "</div>"
      ],
      "text/plain": [
       "         Model_Applied  Accuracy  Training_Time\n",
       "0  Logistic_Regression  0.519608       0.012113\n",
       "1        Random_Forest  0.529412       0.072126\n",
       "2        Decision_tree  0.647059       0.000000\n",
       "3          BernoulliNB  0.558824       0.012028\n",
       "4            GausianNB  0.549020       0.000000\n",
       "5        MultinomialNB  0.460784       0.002339\n",
       "6                  KNN  0.568627       0.002532\n",
       "7                  SVC  0.578431      22.581387\n",
       "8           Linear_SVC  0.549020       0.035298\n",
       "9     Ridge_Classifier  0.500000       0.108544"
      ]
     },
     "execution_count": 46,
     "metadata": {},
     "output_type": "execute_result"
    }
   ],
   "source": [
    "df_model"
   ]
  },
  {
   "cell_type": "code",
   "execution_count": 47,
   "metadata": {},
   "outputs": [
    {
     "data": {
      "image/png": "[encoded data removed]",
      "text/plain": [
       "<Figure size 1000x1000 with 1 Axes>"
      ]
     },
     "metadata": {},
     "output_type": "display_data"
    }
   ],
   "source": [
    "import matplotlib.pyplot as plt\n",
    "\n",
    "\n",
    "\n",
    "fig, ax = plt.subplots(figsize=(10, 10))\n",
    "\n",
    "\n",
    "df_model.plot(kind='bar', x='Model_Applied', y='Accuracy', ylim=[0, 1], ax=ax, legend=False)\n",
    "\n",
    "\n",
    "ax.set_ylabel('Accuracy')\n",
    "ax.set_title('Accuracy Comparison of Different Models')\n",
    "\n",
    "\n",
    "plt.show()\n"
   ]
  },
  {
   "cell_type": "code",
   "execution_count": 48,
   "metadata": {},
   "outputs": [
    {
     "data": {
      "image/png": "[encoded data removed]",
      "text/plain": [
       "<Figure size 1000x1000 with 1 Axes>"
      ]
     },
     "metadata": {},
     "output_type": "display_data"
    }
   ],
   "source": [
    "import matplotlib.pyplot as plt\n",
    "\n",
    "\n",
    "\n",
    "\n",
    "fig, ax = plt.subplots(figsize=(10, 10))\n",
    "\n",
    "\n",
    "df_model.plot(kind='bar', x='Model_Applied', y='Training_Time', ylim=[0, 0.14], ax=ax, legend=False)\n",
    "\n",
    "\n",
    "ax.set_ylabel('Training Time')\n",
    "ax.set_title('Training Time Comparison of Different Models')\n",
    "\n",
    "\n",
    "plt.show()\n"
   ]
  },
  {
   "cell_type": "code",
   "execution_count": 49,
   "metadata": {},
   "outputs": [],
   "source": [
    "import pickle as pkl\n",
    "\n",
    "# List of your algorithms\n",
    "algorithms = [alg1, alg2, alg3, alg4, alg5, alg6, alg7, alg8, alg9, alg10]\n",
    "\n",
    "# Save each algorithm\n",
    "for i, alg in enumerate(algorithms, start=1):\n",
    "    with open(f'Winner{i}.pkl', 'wb') as f:\n",
    "        pkl.dump(alg, f)\n",
    "\n",
    "# Load each algorithm\n",
    "loaded_models = []\n",
    "for i in range(1, 11):\n",
    "    with open(f'Winner{i}.pkl', 'rb') as f:\n",
    "        loaded_models.append(pkl.load(f))\n",
    "\n",
    "# Now, loaded_models is a list containing all your loaded models\n"
   ]
  }
 ],
 "metadata": {
  "kernelspec": {
   "display_name": "Python 3",
   "language": "python",
   "name": "python3"
  },
  "language_info": {
   "codemirror_mode": {
    "name": "ipython",
    "version": 3
   },
   "file_extension": ".py",
   "mimetype": "text/x-python",
   "name": "python",
   "nbconvert_exporter": "python",
   "pygments_lexer": "ipython3",
   "version": "3.8.0"
  }
 },
 "nbformat": 4,
 "nbformat_minor": 4
}
